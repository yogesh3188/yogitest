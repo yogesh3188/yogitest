import pandas as pd
from wordcloud import WordCloud
import matplotlib.pyplot as plt
from textblob import TextBlob

# Sample comments data
comments_data = pd.DataFrame({
    "Rating": [5, 4, 5, 3, 5, 4, 2],
    "Comment": [
        "Very helpful and informative service.",
        "Good but could be improved.",
        "Excellent experience, highly satisfied.",
        "Not very good, poor service.",
        "Amazing staff and quick resolution!",
        "Satisfactory but delayed response.",
        "Terrible support, no resolution provided."
    ]
})

# Bifurcate data into ratings of 5 and 4
ratings_5 = comments_data[comments_data['Rating'] == 5]
ratings_4 = comments_data[comments_data['Rating'] == 4]

# Perform sentiment analysis
def sentiment_analysis(comment):
    return TextBlob(comment).sentiment.polarity

comments_data['Sentiment'] = comments_data['Comment'].apply(sentiment_analysis)

# Generate word clouds
def generate_word_cloud(data, title):
    text = " ".join(data['Comment'])
    wordcloud = WordCloud(width=800, height=400, background_color="white").generate(text)
    plt.figure(figsize=(10, 5))
    plt.imshow(wordcloud, interpolation='bilinear')
    plt.axis("off")
    plt.title(title, fontsize=16)
    plt.show()

# Word Cloud for Rating 5
generate_word_cloud(ratings_5, "Word Cloud for Rating 5")

# Word Cloud for Rating 4
generate_word_cloud(ratings_4, "Word Cloud for Rating 4")

# Output sentiment analysis
comments_data[['Rating', 'Comment', 'Sentiment']]
